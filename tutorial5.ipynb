{
 "cells": [
  {
   "cell_type": "markdown",
   "metadata": {},
   "source": [
    "# Tutorial 5"
   ]
  },
  {
   "cell_type": "markdown",
   "metadata": {},
   "source": [
    "## Question 1: sampling from continuous distributions"
   ]
  },
  {
   "cell_type": "markdown",
   "metadata": {},
   "source": [
    "(a) A random variable $X$ with Rayleigh distribution with parameter $a>0$ has cumulative distribution function \n",
    "$$F(t)=\\mathbb{P}(X\\leq t) = 1-e^{-t^2/(2 a^2)},\\quad t\\geq 0.$$\n",
    "Write a function `random_rayleigh(a)` that returns a random variable with this distribution every time it is called (independently each time).  You should use only the `random()` function from the `random` library - do not  import anything else from `random` or `numpy`.  You can apply the inverse function of $F$ to the output of `random()`, which is uniformly distributed on $[0,1]$.  Your function should print an error message and return `None` if  $a\\leq 0$. "
   ]
  },
  {
   "cell_type": "code",
   "execution_count": null,
   "metadata": {},
   "outputs": [],
   "source": [
    "from random import random\n",
    "from math import *\n",
    "# don't import anything else here\n",
    "\n",
    "### YOUR CODE HERE"
   ]
  },
  {
   "cell_type": "markdown",
   "metadata": {},
   "source": [
    "(b) Test your function.  Generate a large number of samples (at least 10000 is advisable) and plot a histogram.  Differentiate $F$ by hand to get the probability density function $f$.  Plot $f$ on the same axes and check that the fit is reasonable.  Try this for several values of the parameter $a$."
   ]
  },
  {
   "cell_type": "code",
   "execution_count": null,
   "metadata": {},
   "outputs": [],
   "source": [
    "import matplotlib.pyplot as plt\n",
    "import numpy as np\n",
    "\n",
    "### YOUR CODE HERE"
   ]
  },
  {
   "cell_type": "markdown",
   "metadata": {},
   "source": [
    "(c) Sampling from a Normal distribution is not so straightforward.  The probability density function of a standard Normal distribution is \n",
    "$$f(t) = \\frac{1}{\\sqrt{2\\pi}} e^{-t^2/2}$$\n",
    "but there is no simple formula for the cumulative distribution function, nor its inverse (although one can get around this using series approximations, for instance).  Another approach which works well here is to construct the required distribution from others.\n",
    "\n",
    "If $X$ and $Y$ are independent standard Normal random variables (standard means with mean $0$ and variance $1$) then we can think of $(X,Y)$ as the cartesian coordinates of a random point in the plane.  It turns out that the polar coordinates of the same point have a nice form: the angle $\\Theta$ is Uniformly distribution on the interval $[0,2\\pi)$, and the radius $R$ is Rayleigh distrubted with parameter $1$.  Moreover, $\\Theta$ and $R$ are independent.  (You don't need to prove this).  \n",
    "\n",
    "Using this, write a program to generate a pair of independent standard normal random variables.  Again, use only the function `random()` from the `random` library - do not use any other pre-built random number functions."
   ]
  },
  {
   "cell_type": "code",
   "execution_count": null,
   "metadata": {},
   "outputs": [],
   "source": [
    "### YOUR CODE HERE\n",
    "print(\"hello world\")"
   ]
  },
  {
   "cell_type": "markdown",
   "metadata": {},
   "source": [
    "(d) If $Z$ is a standard Normal variable then $\\mu+\\sigma Z$ is Normal with mean $\\mu$ and variance $\\sigma^2$ (so standard deviation $\\sigma$).  Using this and (c), write a function `random_normal(n,mu,var)` that returns a sample of `n` independent Normal variables with mean `mu` and variance `var`.  It should not sample more than necessary - if `n` is odd it will need to discard one sample.  It should handle errors (such as inapropriate values for `n` or `var`) by printing an error message and returning `None`.  Test your function by plotting histograms and checking mean and variance."
   ]
  },
  {
   "cell_type": "code",
   "execution_count": null,
   "metadata": {},
   "outputs": [],
   "source": [
    "### YOUR CODE HERE"
   ]
  },
  {
   "cell_type": "markdown",
   "metadata": {},
   "source": [
    "(e) Write a function to sample a point uniformly from the surface of the unit sphere $\\{x=(x_1,\\ldots,x_d): x_1^2+\\cdots+x_d^2=1\\}$ in $d$ dimensions.  \n",
    "\n",
    "Why is rejection sampling not a good approach?  Here is a way to do it: start from a vector of $d$ independent standard Normal variables (which has a spherically symmetric distribution), and then divide it by its Euclidean norm (\"normalize\") to make it into a unit vector.\n",
    "\n",
    "To investigate the results, let $d=3$, sample a large number of points $x=(x_1,x_2,x_3)$ and plot their two-dimensional projections $(x_1,x_2)$ (optionally also make a 3 dimensional plot of the points $x$ themselves).  Also plot a histogram of the one-dimensional projections $x_1$. Also try both with $d=4$. The results may be surprising."
   ]
  },
  {
   "cell_type": "code",
   "execution_count": null,
   "metadata": {},
   "outputs": [],
   "source": [
    "### YOUR CODE HERE"
   ]
  },
  {
   "cell_type": "markdown",
   "metadata": {},
   "source": [
    "## Question 2: sampling lists without runs\n",
    "Our goal is to generate a uniformly random list of $n$ numbers in the range $0,1,\\dots,k-1$, with the constraint that there are **no runs of three (or more) consecutive equal entries**.  So, for example, if $n=6$ and $k=4$:\n",
    "\n",
    "the list `[0,0,3,1,2,0]` is allowed,\n",
    "\n",
    "but the list `[1,2,2,2,3,1]` is not, because it has a run of three consecutive 2's.\n",
    "\n",
    "For given $n$ and $k$, we want to sample uniformly at random from all the allowed lists.  (I.e. we want each allowed list to appear with equal probability)."
   ]
  },
  {
   "cell_type": "markdown",
   "metadata": {},
   "source": [
    "(a) \n",
    "Write a function `random_no_runs(n,k)` that performs the task described above using rejection sampling, and returns the resulting random list.  You might want to start with a function that returns a random list without the restriction, and another that checks whether or not a given list has a run of three, and returns a boolean value."
   ]
  },
  {
   "cell_type": "code",
   "execution_count": null,
   "metadata": {},
   "outputs": [],
   "source": [
    "from random import randrange\n",
    "# this should be all we need to import\n",
    "\n",
    "### YOUR CODE HERE"
   ]
  },
  {
   "cell_type": "code",
   "execution_count": null,
   "metadata": {},
   "outputs": [],
   "source": [
    "### Test your function here\n",
    "\n",
    "print(random_no_runs(10,3))\n",
    "print(random_no_runs(20,2))\n",
    "for i in range(20):\n",
    "    print(random_no_runs(6,4))"
   ]
  },
  {
   "cell_type": "markdown",
   "metadata": {},
   "source": [
    "(b) Try running your function with $k = 2$ or $3$ for some large values of $n$: $50,100,150,200$, etc.  Why is it so slow?  At some point you will want to stop it using the stop icon."
   ]
  },
  {
   "cell_type": "code",
   "execution_count": null,
   "metadata": {},
   "outputs": [],
   "source": [
    "### YOUR CODE HERE"
   ]
  },
  {
   "cell_type": "markdown",
   "metadata": {},
   "source": [
    "(c) **(advanced)** To address the problem in (b) we can use a different approach known as \"divide and conquer\": Split the required list into two shorter lists of approximately half the required length.  Sample a random list without runs for each of them, and concatenate them into a list of the required length.  Test whether this list meets the required criterion, and use rejection sampling: either keep it or start again.  (It might not be obvious that this approach gives a truly uniform random sample, but it does).  Write a new, recursive, version of the function that uses this approach, and test it, particularly for the problematic cases from (b). "
   ]
  },
  {
   "cell_type": "code",
   "execution_count": null,
   "metadata": {},
   "outputs": [],
   "source": [
    "### YOUR CODE HERE"
   ]
  },
  {
   "cell_type": "markdown",
   "metadata": {},
   "source": [
    "## Bonus Question 3: random walk return times\n",
    "The simple random walk starts at 0, and at each step increases by 1 with probability $p$ or decreases by 1 with probability $1-p$, with different steps being independent.  Let $T$ be the number of steps until its first return to $0$ (where we take $T$ to be $\\infty$ if it never returns to $0$)."
   ]
  },
  {
   "cell_type": "markdown",
   "metadata": {},
   "source": [
    "(a) Write a function `ret_time(p,max_steps)` that returns a random sample of the return time $T$ for the random walk with parameter $p$.  If the walk runs for more than `max_steps` steps without returning to $0$ then the function should just stop and return `max_steps`."
   ]
  },
  {
   "cell_type": "code",
   "execution_count": null,
   "metadata": {},
   "outputs": [],
   "source": [
    "### YOUR CODE HERE"
   ]
  },
  {
   "cell_type": "markdown",
   "metadata": {},
   "source": [
    "(b) Taking max_steps to be something reasonably large, at least 100 say, and taking 𝑝 to be each of 0.8, 0.6, 0.5, test your code by writing an enhanced version that plots the random walk trajectory, and draws a verical line corresponding to the value of 𝑇. "
   ]
  },
  {
   "cell_type": "code",
   "execution_count": null,
   "metadata": {},
   "outputs": [],
   "source": [
    "### YOUR CODE HERE"
   ]
  },
  {
   "cell_type": "markdown",
   "metadata": {},
   "source": [
    "(c) Use plots to investigate the distribution of $T$ (remember that it is possible for $T$ to be $\\infty$) for several values of $p$, for instance $0.8$, $0.6$, $0.5$.  The case $p=0.5$ turns out to be qualitatively different, and in fact the tail probability $\\Bbb P(T>n)$ decays like a power of $n$ as $n\\to\\infty$.  Use a log-log plot to estimate this power.  It helps to take max_steps and the number of samples as large as practically possible."
   ]
  },
  {
   "cell_type": "code",
   "execution_count": null,
   "metadata": {},
   "outputs": [],
   "source": [
    "### YOUR CODE HERE"
   ]
  }
 ],
 "metadata": {
  "kernelspec": {
   "display_name": "Python 3",
   "language": "python",
   "name": "python3"
  },
  "language_info": {
   "codemirror_mode": {
    "name": "ipython",
    "version": 3
   },
   "file_extension": ".py",
   "mimetype": "text/x-python",
   "name": "python",
   "nbconvert_exporter": "python",
   "pygments_lexer": "ipython3",
   "version": "3.8.2"
  }
 },
 "nbformat": 4,
 "nbformat_minor": 4
}
